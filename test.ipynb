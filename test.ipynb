{
 "cells": [
  {
   "cell_type": "code",
   "execution_count": 139,
   "metadata": {},
   "outputs": [],
   "source": [
    "class CircularBuffer:\n",
    "    def __init__(self, size):\n",
    "        self.size = round(size)\n",
    "        self.buffer = [None] * self.size\n",
    "        self.index = 0\n",
    "        self.is_full = False\n",
    "\n",
    "    def addMeasurement(self, measurement):\n",
    "        self.buffer[self.index] = measurement\n",
    "        self.index = (self.index + 1) % self.size\n",
    "        if not self.is_full and self.index == 0:\n",
    "            self.is_full = True\n",
    "\n",
    "    def findAverage(self, count):\n",
    "        count1 = round(count)\n",
    "        if count1 > self.size:\n",
    "            count1 = self.size\n",
    "        elif count1 == 0:\n",
    "            return 0\n",
    "        start_index = self.index - (count1) if self.is_full else 0\n",
    "        if start_index < 0:\n",
    "            return sum(self.buffer[start_index : self.size] + self.buffer[: start_index - (self.size - count1)]) / count1\n",
    "        return sum(self.buffer[start_index:self.index])/ count1\n"
   ]
  },
  {
   "cell_type": "code",
   "execution_count": 149,
   "metadata": {},
   "outputs": [
    {
     "data": {
      "text/plain": [
       "6.0"
      ]
     },
     "execution_count": 149,
     "metadata": {},
     "output_type": "execute_result"
    }
   ],
   "source": [
    "a = CircularBuffer(9)\n",
    "a.addMeasurement(1)\n",
    "a.addMeasurement(2)\n",
    "a.addMeasurement(3)\n",
    "a.addMeasurement(4)\n",
    "a.addMeasurement(5)\n",
    "a.addMeasurement(6)\n",
    "a.addMeasurement(7)\n",
    "a.addMeasurement(8)\n",
    "a.addMeasurement(9)\n",
    "a.addMeasurement(10)\n",
    "a.findAverage(9)\n"
   ]
  },
  {
   "cell_type": "code",
   "execution_count": 151,
   "metadata": {},
   "outputs": [
    {
     "data": {
      "text/plain": [
       "6.0"
      ]
     },
     "execution_count": 151,
     "metadata": {},
     "output_type": "execute_result"
    }
   ],
   "source": [
    "(48 + 6)/ 9"
   ]
  },
  {
   "cell_type": "code",
   "execution_count": null,
   "metadata": {},
   "outputs": [],
   "source": []
  }
 ],
 "metadata": {
  "kernelspec": {
   "display_name": "base",
   "language": "python",
   "name": "python3"
  },
  "language_info": {
   "codemirror_mode": {
    "name": "ipython",
    "version": 3
   },
   "file_extension": ".py",
   "mimetype": "text/x-python",
   "name": "python",
   "nbconvert_exporter": "python",
   "pygments_lexer": "ipython3",
   "version": "3.11.0"
  },
  "orig_nbformat": 4
 },
 "nbformat": 4,
 "nbformat_minor": 2
}
