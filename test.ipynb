{
 "cells": [
  {
   "cell_type": "code",
   "execution_count": 8,
   "metadata": {},
   "outputs": [],
   "source": [
    "class CircularBuffer:\n",
    "    def __init__(self, size):\n",
    "        self.size = size\n",
    "        self.buffer = [None] * size\n",
    "        self.index = 0\n",
    "        self.is_full = False\n",
    "\n",
    "    def addMeasurement(self, measurement):\n",
    "        self.buffer[self.index] = measurement\n",
    "        self.index = (self.index + 1) % self.size\n",
    "        if not self.is_full and self.index == 0:\n",
    "            self.is_full = True\n",
    "\n",
    "    def findAverage(self, count):\n",
    "        count1 = round(count)\n",
    "        if count1 > self.size:\n",
    "            count1 = self.size\n",
    "        elif count1 == 0:\n",
    "            return 0\n",
    "        start_index = self.index - count1 if self.is_full else 0\n",
    "        return sum(self.buffer[start_index : self.index]) / count1\n",
    "\n",
    "\n"
   ]
  },
  {
   "cell_type": "code",
   "execution_count": 16,
   "metadata": {},
   "outputs": [
    {
     "ename": "TypeError",
     "evalue": "can't multiply sequence by non-int of type 'float'",
     "output_type": "error",
     "traceback": [
      "\u001b[0;31m---------------------------------------------------------------------------\u001b[0m",
      "\u001b[0;31mTypeError\u001b[0m                                 Traceback (most recent call last)",
      "Cell \u001b[0;32mIn[16], line 1\u001b[0m\n\u001b[0;32m----> 1\u001b[0m a \u001b[39m=\u001b[39m CircularBuffer(\u001b[39m5.5\u001b[39;49m)\n\u001b[1;32m      2\u001b[0m a\u001b[39m.\u001b[39maddMeasurement(\u001b[39m3.4\u001b[39m)\n\u001b[1;32m      3\u001b[0m a\u001b[39m.\u001b[39maddMeasurement(\u001b[39m3.2\u001b[39m)\n",
      "Cell \u001b[0;32mIn[8], line 4\u001b[0m, in \u001b[0;36mCircularBuffer.__init__\u001b[0;34m(self, size)\u001b[0m\n\u001b[1;32m      2\u001b[0m \u001b[39mdef\u001b[39;00m \u001b[39m__init__\u001b[39m(\u001b[39mself\u001b[39m, size):\n\u001b[1;32m      3\u001b[0m     \u001b[39mself\u001b[39m\u001b[39m.\u001b[39msize \u001b[39m=\u001b[39m size\n\u001b[0;32m----> 4\u001b[0m     \u001b[39mself\u001b[39m\u001b[39m.\u001b[39mbuffer \u001b[39m=\u001b[39m [\u001b[39mNone\u001b[39;49;00m] \u001b[39m*\u001b[39;49m size\n\u001b[1;32m      5\u001b[0m     \u001b[39mself\u001b[39m\u001b[39m.\u001b[39mindex \u001b[39m=\u001b[39m \u001b[39m0\u001b[39m\n\u001b[1;32m      6\u001b[0m     \u001b[39mself\u001b[39m\u001b[39m.\u001b[39mis_full \u001b[39m=\u001b[39m \u001b[39mFalse\u001b[39;00m\n",
      "\u001b[0;31mTypeError\u001b[0m: can't multiply sequence by non-int of type 'float'"
     ]
    }
   ],
   "source": [
    "a = CircularBuffer(5.5)\n",
    "a.addMeasurement(3.4)\n",
    "a.addMeasurement(3.2)\n",
    "a.findAverage(5)"
   ]
  },
  {
   "cell_type": "code",
   "execution_count": null,
   "metadata": {},
   "outputs": [],
   "source": []
  }
 ],
 "metadata": {
  "kernelspec": {
   "display_name": "base",
   "language": "python",
   "name": "python3"
  },
  "language_info": {
   "codemirror_mode": {
    "name": "ipython",
    "version": 3
   },
   "file_extension": ".py",
   "mimetype": "text/x-python",
   "name": "python",
   "nbconvert_exporter": "python",
   "pygments_lexer": "ipython3",
   "version": "3.11.0"
  },
  "orig_nbformat": 4
 },
 "nbformat": 4,
 "nbformat_minor": 2
}
